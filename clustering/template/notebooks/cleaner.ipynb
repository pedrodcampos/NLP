{
 "cells": [
  {
   "cell_type": "code",
   "execution_count": null,
   "metadata": {},
   "outputs": [],
   "source": [
    "from inspect import getsourcefile\n",
    "import os.path as path, sys\n",
    "current_dir = path.dirname(path.abspath(getsourcefile(lambda:0)))\n",
    "sys.path.append( \"/\".join(current_dir.split('/')[:-3]))"
   ]
  },
  {
   "cell_type": "code",
   "execution_count": null,
   "metadata": {},
   "outputs": [],
   "source": [
    "import tqdm\n",
    "import pandas as pd\n",
    "from stacey.cleaning import filter_english, clean\n",
    "from stacey.path import get_output_file, get_app_dir, get_output_dir"
   ]
  },
  {
   "cell_type": "code",
   "execution_count": null,
   "metadata": {},
   "outputs": [],
   "source": [
    "df_main = pd.read_csv(get_output_file('aurea_smb_aurea_mailessentials.csv'), encoding='utf-8')"
   ]
  },
  {
   "cell_type": "code",
   "execution_count": null,
   "metadata": {},
   "outputs": [],
   "source": [
    "df_main.dropna(subset=['product'], inplace=True)"
   ]
  },
  {
   "cell_type": "code",
   "execution_count": null,
   "metadata": {},
   "outputs": [],
   "source": [
    "tqdm.tqdm.pandas()"
   ]
  },
  {
   "cell_type": "code",
   "execution_count": null,
   "metadata": {},
   "outputs": [],
   "source": [
    "df_main = df_main[filter_english(df_main['comments_new'])]"
   ]
  },
  {
   "cell_type": "code",
   "execution_count": null,
   "metadata": {},
   "outputs": [],
   "source": [
    "df = df_main"
   ]
  },
  {
   "cell_type": "code",
   "execution_count": null,
   "metadata": {},
   "outputs": [],
   "source": [
    "custom_filters=[\n",
    "    {\"regexp\": r\"^([0-9]{4}-[0-9]{2}-[0-9]{2}\\s([0-1][0-9]|2[0-4]):[0-5][0-9]:[0-5][0-9]).*$\", \"replace\": \"\"},\n",
    "    {\"regexp\":r\"^(best regards|kind Regards|regards)([^=]+[\\s\\S])+$\", \"replace\": \"\"},\n",
    "    {\"regexp\": r\"[_]+([\\s\\S]*)[=]\", \"replace\": \"\"},\n",
    "    {\"regexp\":r\"IMPORTANT NOTE FOR AGENT[\\s\\S]+pending.\", \"replace\": \"\"},\n",
    "    {\"regexp\":r\"REMINDER TO AGENT[\\s\\S]+Central Support\", \"replace\":\"\"},\n",
    "    {\"regexp\":r\"eta for pending.+?([0-9]{4}-([0][1-9]|1[1-2])-([0-2][0-9]|3[0-1]))\", \"replace\":\"\"}]"
   ]
  },
  {
   "cell_type": "code",
   "execution_count": null,
   "metadata": {},
   "outputs": [],
   "source": [
    "df['clean_comments'] = df['comments_new'].progress_apply(lambda text: clean(text, custom_filters))"
   ]
  },
  {
   "cell_type": "code",
   "execution_count": null,
   "metadata": {},
   "outputs": [],
   "source": [
    "df = df[df['clean_comments'].map(len) > 2]"
   ]
  },
  {
   "cell_type": "code",
   "execution_count": null,
   "metadata": {},
   "outputs": [],
   "source": [
    "df.head()"
   ]
  },
  {
   "cell_type": "code",
   "execution_count": null,
   "metadata": {},
   "outputs": [],
   "source": [
    "df.to_csv(get_output_file('clean_aurea_smb_mails_essentials.csv'), index=False)"
   ]
  },
  {
   "cell_type": "code",
   "execution_count": null,
   "metadata": {},
   "outputs": [],
   "source": []
  }
 ],
 "metadata": {
  "kernelspec": {
   "display_name": "clustering",
   "language": "python",
   "name": "clustering"
  },
  "language_info": {
   "codemirror_mode": {
    "name": "ipython",
    "version": 3
   },
   "file_extension": ".py",
   "mimetype": "text/x-python",
   "name": "python",
   "nbconvert_exporter": "python",
   "pygments_lexer": "ipython3",
   "version": "3.7.2"
  }
 },
 "nbformat": 4,
 "nbformat_minor": 2
}
